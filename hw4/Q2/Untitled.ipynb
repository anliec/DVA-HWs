{
 "cells": [
  {
   "cell_type": "code",
   "execution_count": 6,
   "metadata": {},
   "outputs": [],
   "source": [
    "import pandas as pd\n",
    "import numpy as np"
   ]
  },
  {
   "cell_type": "code",
   "execution_count": 4,
   "metadata": {},
   "outputs": [],
   "source": [
    "df = pd.read_csv(\"hw4-data.csv\", header=None)"
   ]
  },
  {
   "cell_type": "code",
   "execution_count": 5,
   "metadata": {},
   "outputs": [
    {
     "data": {
      "text/plain": [
       "Int64Index([ 0,  1,  2,  3,  4,  5,  6,  7,  8,  9, 10, 11, 12, 13, 14, 15, 16,\n",
       "            17, 18, 19, 20, 21, 22, 23, 24, 25, 26, 27, 28, 29, 30, 31, 32, 33,\n",
       "            34, 35, 36, 37, 38, 39, 40, 41],\n",
       "           dtype='int64')"
      ]
     },
     "execution_count": 5,
     "metadata": {},
     "output_type": "execute_result"
    }
   ],
   "source": [
    "df.columns"
   ]
  },
  {
   "cell_type": "code",
   "execution_count": 7,
   "metadata": {},
   "outputs": [
    {
     "name": "stdout",
     "output_type": "stream",
     "text": [
      "00: count 440\n",
      "01: count 1022\n",
      "02: count 11\n",
      "03: count 4\n",
      "04: count 16\n",
      "05: count 13\n",
      "06: count 15\n",
      "07: count 188\n",
      "08: count 15\n",
      "09: count 12\n",
      "10: count 21\n",
      "11: count 384\n",
      "12: count 756\n",
      "13: count 373\n",
      "14: count 510\n",
      "15: count 24\n",
      "16: count 167\n",
      "17: count 125\n",
      "18: count 3\n",
      "19: count 4\n",
      "20: count 4\n",
      "21: count 352\n",
      "22: count 13\n",
      "23: count 2\n",
      "24: count 2\n",
      "25: count 4\n",
      "26: count 329\n",
      "27: count 205\n",
      "28: count 2\n",
      "29: count 470\n",
      "30: count 553\n",
      "31: count 8\n",
      "32: count 11\n",
      "33: count 16\n",
      "34: count 8\n",
      "35: count 705\n",
      "36: count 624\n",
      "37: count 8\n",
      "38: count 862\n",
      "39: count 5\n",
      "40: count 17\n",
      "41: count 2\n"
     ]
    }
   ],
   "source": [
    "for c in df.columns:\n",
    "    col = df[c]\n",
    "    print(\"{:02d}: count {}\".format(c, len(set(col))))"
   ]
  },
  {
   "cell_type": "code",
   "execution_count": null,
   "metadata": {},
   "outputs": [],
   "source": []
  }
 ],
 "metadata": {
  "kernelspec": {
   "display_name": "Python 3",
   "language": "python",
   "name": "python3"
  },
  "language_info": {
   "codemirror_mode": {
    "name": "ipython",
    "version": 3
   },
   "file_extension": ".py",
   "mimetype": "text/x-python",
   "name": "python",
   "nbconvert_exporter": "python",
   "pygments_lexer": "ipython3",
   "version": "3.6.7"
  }
 },
 "nbformat": 4,
 "nbformat_minor": 2
}
